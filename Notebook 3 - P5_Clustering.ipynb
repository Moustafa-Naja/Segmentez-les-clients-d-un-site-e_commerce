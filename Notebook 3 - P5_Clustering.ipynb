{
 "cells": [
  {
   "cell_type": "markdown",
   "id": "76f50584",
   "metadata": {},
   "source": [
    "# Segmentez des clients d'un site e-commerce - 3"
   ]
  },
  {
   "cell_type": "code",
   "execution_count": 43,
   "id": "4433fff4",
   "metadata": {},
   "outputs": [],
   "source": [
    "import pandas as pd\n",
    "import matplotlib.pyplot as plt\n",
    "import seaborn as sns\n",
    "from sklearn import cluster\n",
    "from sklearn.metrics.cluster import adjusted_rand_score"
   ]
  },
  {
   "cell_type": "code",
   "execution_count": 3,
   "id": "3752f6f5",
   "metadata": {},
   "outputs": [],
   "source": [
    "df = pd.read_csv(\"table_seg\",index_col=0)"
   ]
  },
  {
   "cell_type": "code",
   "execution_count": 4,
   "id": "c5771ee3",
   "metadata": {},
   "outputs": [],
   "source": [
    "X_RFM_avis = df[[\"valeur_totale_achats\",\"nombre_total_achats\",\"dernier_achat_jours\",\"score_moyen_avis\"]]\n",
    "X_RFM_avis = X_RFM_avis.rename(columns={\"valeur_totale_achats\":\"Montant\",\"dernier_achat_jours\":\"Récence\",\"nombre_total_achats\":\"Fréquence\",\"score_moyen_avis\":\"Avis\"})\n",
    "X_RFM = X_RFM_avis[[\"Montant\",\"Fréquence\",\"Récence\"]]"
   ]
  },
  {
   "cell_type": "markdown",
   "id": "87d00e03",
   "metadata": {},
   "source": [
    "## Contrat de maintenance"
   ]
  },
  {
   "cell_type": "code",
   "execution_count": 5,
   "id": "4d0ed180",
   "metadata": {},
   "outputs": [
    {
     "name": "stdout",
     "output_type": "stream",
     "text": [
      "La date d'achat la plus récente 2018-09-03 correspond à un nombre de jours écoulé = 1216 jours et la date d'achat la plus ancienne 2016-10-04 correspond à un nombre de jours écoulé = 1915 jours.\n"
     ]
    }
   ],
   "source": [
    "print(\"La date d'achat la plus récente 2018-09-03 correspond à un nombre de jours écoulé = {} jours et la date d'achat la plus ancienne 2016-10-04 correspond à un nombre de jours écoulé = {} jours.\".format(X_RFM.Récence.min(),X_RFM.Récence.max()))"
   ]
  },
  {
   "cell_type": "markdown",
   "id": "c8909a76",
   "metadata": {},
   "source": [
    "Comme la base de données est très variable en fonction du temps. Je vais créer un premier fichier initial de clients sans les derniers 45 jours: "
   ]
  },
  {
   "cell_type": "code",
   "execution_count": 10,
   "id": "130ed4e0",
   "metadata": {},
   "outputs": [],
   "source": [
    "F0 = X_RFM[X_RFM.Récence>=1261]\n",
    "\n",
    "cluster_F0 = cluster.KMeans(n_clusters=4) # Clustering with KMeans by using the best k \n",
    "modèle_F0 = cluster_F0.fit(F0)"
   ]
  },
  {
   "cell_type": "markdown",
   "id": "9729d63e",
   "metadata": {},
   "source": [
    "Je vais maintenant créer un nouveau fichier F1 en incluant les clients qui ont achetés dans les 5 jours suivants:"
   ]
  },
  {
   "cell_type": "code",
   "execution_count": 14,
   "id": "a9169fbf",
   "metadata": {},
   "outputs": [],
   "source": [
    "F1 = X_RFM[X_RFM.Récence>=1256]\n",
    "\n",
    "cluster_F1 = cluster.KMeans(n_clusters=4)\n",
    "modèle_F1 = cluster_F1.fit(F1)\n",
    "\n",
    "F1_pred = modèle_F0.predict(F1) # The clustering of the F1 database is predicted by using the model F0  "
   ]
  },
  {
   "cell_type": "markdown",
   "id": "6b71e3ab",
   "metadata": {},
   "source": [
    "Le score de Rand adjusté nous permets de voir s'il existe une similarité entre les clusters prédits et vrais. Un score proche de 0 est donné pour un étiquetage aléatoire et 1 lorsque les clusterings sont identiques."
   ]
  },
  {
   "cell_type": "code",
   "execution_count": 17,
   "id": "9f618246",
   "metadata": {},
   "outputs": [
    {
     "data": {
      "text/plain": [
       "0.9876947859644271"
      ]
     },
     "execution_count": 17,
     "metadata": {},
     "output_type": "execute_result"
    }
   ],
   "source": [
    "rand_0 = adjusted_rand_score(modèle_F1.labels_, F1_pred)\n",
    "rand_0 # Rand score computed the similarity between predicted and true clusters after 5 days. "
   ]
  },
  {
   "cell_type": "markdown",
   "id": "4e620843",
   "metadata": {},
   "source": [
    "Je vais maintenant créer un nouveau fichier F2 en incluant les clients qui ont achetés dans les 10 jours suivants:"
   ]
  },
  {
   "cell_type": "code",
   "execution_count": 18,
   "id": "c3fe7bc3",
   "metadata": {},
   "outputs": [],
   "source": [
    "F2 = X_RFM[X_RFM.Récence>=1251]\n",
    "\n",
    "cluster_F2 = cluster.KMeans(n_clusters=4)\n",
    "modèle_F2 = cluster_F2.fit(F2)\n",
    "\n",
    "F2_Predict = modèle_F0.predict(F2)"
   ]
  },
  {
   "cell_type": "code",
   "execution_count": 20,
   "id": "246784dc",
   "metadata": {},
   "outputs": [
    {
     "data": {
      "text/plain": [
       "0.9545777296076593"
      ]
     },
     "execution_count": 20,
     "metadata": {},
     "output_type": "execute_result"
    }
   ],
   "source": [
    "rand_1 = adjusted_rand_score(modèle_F2.labels_, F2_Predict)\n",
    "rand_1 # Rand score computed the similarity between predicted and true clusters after 10 days. "
   ]
  },
  {
   "cell_type": "markdown",
   "id": "979aff53",
   "metadata": {},
   "source": [
    "Je vais maintenant créer un nouveau groupe F3 en incluant les clients qui ont achetés dans les 15 jours suivants:"
   ]
  },
  {
   "cell_type": "code",
   "execution_count": 21,
   "id": "fd8dcf85",
   "metadata": {},
   "outputs": [],
   "source": [
    "F3 = X_RFM[X_RFM.Récence>=1246]\n",
    "\n",
    "cluster_F3 = cluster.KMeans(n_clusters=4)\n",
    "modèle_F3 = cluster_F3.fit(F3)\n",
    "\n",
    "F3_pred = modèle_F0.predict(F3)"
   ]
  },
  {
   "cell_type": "code",
   "execution_count": 22,
   "id": "4326cb85",
   "metadata": {},
   "outputs": [
    {
     "data": {
      "text/plain": [
       "0.944303589806465"
      ]
     },
     "execution_count": 22,
     "metadata": {},
     "output_type": "execute_result"
    }
   ],
   "source": [
    "rand_2 = adjusted_rand_score(modèle_F3.labels_, F3_pred)\n",
    "rand_2 # Rand score computed the similarity between predicted and true clusters after 15 days. "
   ]
  },
  {
   "cell_type": "markdown",
   "id": "c156ab78",
   "metadata": {},
   "source": [
    "Je vais continuer à faire des simulations en augmentant 5 jours"
   ]
  },
  {
   "cell_type": "code",
   "execution_count": 23,
   "id": "8e3bfae4",
   "metadata": {},
   "outputs": [],
   "source": [
    "F4 = X_RFM[X_RFM.Récence>=1241]\n",
    "\n",
    "cluster_F4 = cluster.KMeans(n_clusters=4)\n",
    "modèle_F4 = cluster_F4.fit(F4)\n",
    "\n",
    "F4_pred = modèle_F0.predict(F4)"
   ]
  },
  {
   "cell_type": "code",
   "execution_count": 24,
   "id": "42ebbf52",
   "metadata": {},
   "outputs": [
    {
     "data": {
      "text/plain": [
       "0.9053825287715089"
      ]
     },
     "execution_count": 24,
     "metadata": {},
     "output_type": "execute_result"
    }
   ],
   "source": [
    "rand_3 = adjusted_rand_score(modèle_F4.labels_, F4_pred)\n",
    "rand_3 # Rand score computed the similarity between predicted and true clusters after 20 days. "
   ]
  },
  {
   "cell_type": "code",
   "execution_count": 25,
   "id": "13a56acc",
   "metadata": {},
   "outputs": [],
   "source": [
    "F5 = X_RFM[X_RFM.Récence>=1236]\n",
    "\n",
    "cluster_F5 = cluster.KMeans(n_clusters=4)\n",
    "modèle_F5 = cluster_F5.fit(F5)\n",
    "\n",
    "F5_pred = modèle_F0.predict(F5)"
   ]
  },
  {
   "cell_type": "code",
   "execution_count": 26,
   "id": "eca191be",
   "metadata": {},
   "outputs": [
    {
     "data": {
      "text/plain": [
       "0.7001521429216516"
      ]
     },
     "execution_count": 26,
     "metadata": {},
     "output_type": "execute_result"
    }
   ],
   "source": [
    "rand_4 = adjusted_rand_score(modèle_F5.labels_, F5_pred)\n",
    "rand_4 # Rand score computed the similarity between predicted and true clusters after 25 days. "
   ]
  },
  {
   "cell_type": "code",
   "execution_count": 33,
   "id": "068d60b7",
   "metadata": {},
   "outputs": [
    {
     "data": {
      "text/html": [
       "<div>\n",
       "<style scoped>\n",
       "    .dataframe tbody tr th:only-of-type {\n",
       "        vertical-align: middle;\n",
       "    }\n",
       "\n",
       "    .dataframe tbody tr th {\n",
       "        vertical-align: top;\n",
       "    }\n",
       "\n",
       "    .dataframe thead th {\n",
       "        text-align: right;\n",
       "    }\n",
       "</style>\n",
       "<table border=\"1\" class=\"dataframe\">\n",
       "  <thead>\n",
       "    <tr style=\"text-align: right;\">\n",
       "      <th></th>\n",
       "      <th>Temps</th>\n",
       "      <th>Adjusted Rand Score</th>\n",
       "    </tr>\n",
       "  </thead>\n",
       "  <tbody>\n",
       "    <tr>\n",
       "      <th>0</th>\n",
       "      <td>5</td>\n",
       "      <td>0.987695</td>\n",
       "    </tr>\n",
       "    <tr>\n",
       "      <th>1</th>\n",
       "      <td>10</td>\n",
       "      <td>0.954578</td>\n",
       "    </tr>\n",
       "    <tr>\n",
       "      <th>2</th>\n",
       "      <td>15</td>\n",
       "      <td>0.944304</td>\n",
       "    </tr>\n",
       "    <tr>\n",
       "      <th>3</th>\n",
       "      <td>20</td>\n",
       "      <td>0.905383</td>\n",
       "    </tr>\n",
       "    <tr>\n",
       "      <th>4</th>\n",
       "      <td>25</td>\n",
       "      <td>0.700152</td>\n",
       "    </tr>\n",
       "  </tbody>\n",
       "</table>\n",
       "</div>"
      ],
      "text/plain": [
       "  Temps  Adjusted Rand Score\n",
       "0     5             0.987695\n",
       "1    10             0.954578\n",
       "2    15             0.944304\n",
       "3    20             0.905383\n",
       "4    25             0.700152"
      ]
     },
     "execution_count": 33,
     "metadata": {},
     "output_type": "execute_result"
    }
   ],
   "source": [
    "rand = ({\"5\":[rand_0],\"10\":[rand_1],\"15\":[rand_2],\"20\":[rand_3],\"25\":[rand_4]})\n",
    "rand = pd.DataFrame(rand).T.reset_index()\n",
    "rand.columns = [\"Temps\",\"Adjusted Rand Score\"]\n",
    "rand"
   ]
  },
  {
   "cell_type": "code",
   "execution_count": 47,
   "id": "65e39000",
   "metadata": {},
   "outputs": [
    {
     "data": {
      "text/plain": [
       "[Text(0.5, 1.0, 'Adjusted Rand score  en fonction du délai de prédiction')]"
      ]
     },
     "execution_count": 47,
     "metadata": {},
     "output_type": "execute_result"
    },
    {
     "data": {
      "image/png": "[encoded data removed]",
      "text/plain": [
       "<Figure size 720x504 with 1 Axes>"
      ]
     },
     "metadata": {},
     "output_type": "display_data"
    }
   ],
   "source": [
    "plt.figure(figsize=(10,7))\n",
    "\n",
    "sns.set(font_scale = 1.2)\n",
    "sns.set_style(\"whitegrid\") \n",
    "sns.lineplot(x=\"Temps\",y=\"Adjusted Rand Score\",data=rand,markers=True).set(title=\"Adjusted Rand score  en fonction du délai de prédiction\")"
   ]
  },
  {
   "cell_type": "markdown",
   "id": "9877c784",
   "metadata": {},
   "source": [
    "D'après les résultats du Rand score il est conseillé de faire une maintenance du clustering tout les 20 jours environ. "
   ]
  },
  {
   "cell_type": "markdown",
   "id": "e632e779",
   "metadata": {},
   "source": [
    "Je vais maintenanct évaluer ce délai avec toute la database :\n",
    " - Je vais entrainer la base de données contenant des achats effectués sans tenir compte des derniers 20 jours et puis je vais voir si mon modèle peut prédire le clustering de la database finale : "
   ]
  },
  {
   "cell_type": "code",
   "execution_count": 49,
   "id": "5caf371d",
   "metadata": {},
   "outputs": [],
   "source": [
    "F01 = X_RFM[X_RFM.Récence>=1236]\n",
    "\n",
    "cluster_F01 = cluster.KMeans(n_clusters=4)\n",
    "modèle_F01 = cluster_F01.fit(F01)"
   ]
  },
  {
   "cell_type": "code",
   "execution_count": 50,
   "id": "e7ce0b4e",
   "metadata": {},
   "outputs": [],
   "source": [
    "F02 = X_RFM[X_RFM.Récence>=1216]\n",
    "\n",
    "cluster_F02 = cluster.KMeans(n_clusters=4)\n",
    "modèle_F02 = cluster_F02.fit(F02)\n",
    "\n",
    "F02_pred = modèle_F01.predict(F02)"
   ]
  },
  {
   "cell_type": "code",
   "execution_count": 51,
   "id": "d20f430c",
   "metadata": {},
   "outputs": [
    {
     "data": {
      "text/plain": [
       "0.9451538555926065"
      ]
     },
     "execution_count": 51,
     "metadata": {},
     "output_type": "execute_result"
    }
   ],
   "source": [
    "rand = adjusted_rand_score(modèle_F02.labels_, F02_pred)\n",
    "rand"
   ]
  },
  {
   "cell_type": "markdown",
   "id": "2f30a5e3",
   "metadata": {},
   "source": [
    "**Le score du Rand adjusté est élevé nous permet de conclure que un délai de 20 jours est éfficace pour prédire des clusters similaires aux vrais clusters**"
   ]
  },
  {
   "cell_type": "code",
   "execution_count": null,
   "id": "64b1a118",
   "metadata": {},
   "outputs": [],
   "source": []
  }
 ],
 "metadata": {
  "kernelspec": {
   "display_name": "Python 3",
   "language": "python",
   "name": "python3"
  },
  "language_info": {
   "codemirror_mode": {
    "name": "ipython",
    "version": 3
   },
   "file_extension": ".py",
   "mimetype": "text/x-python",
   "name": "python",
   "nbconvert_exporter": "python",
   "pygments_lexer": "ipython3",
   "version": "3.8.8"
  }
 },
 "nbformat": 4,
 "nbformat_minor": 5
}
